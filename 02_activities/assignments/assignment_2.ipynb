{
 "cells": [
  {
   "cell_type": "markdown",
   "id": "7c6788aef474ca12",
   "metadata": {
    "collapsed": false,
    "id": "7c6788aef474ca12"
   },
   "source": [
    "# Text Generation with Recurrent Neural Networks (RNNs)\n",
    "\n",
    "In this assignment, you'll build upon your understanding of RNNs and Keras to develop a word-level text generation model.  Your goal is to train a model that learns the stylistic nuances of a chosen corpus and generates new, original text segments that echo the source material's essence.\n",
    "\n",
    "**Datasets**\n",
    "\n",
    "We've provided several intriguing text corpora to get you started:\n",
    "\n",
    "*   Mark Twain\n",
    "*   Charles Dickens\n",
    "*   William Shakespeare\n",
    "\n",
    "**Feel free to explore!**  If you have a particular passion for another author, genre, or a specific text, you're encouraged to use your own dataset of raw text."
   ]
  },
  {
   "cell_type": "code",
   "execution_count": 1,
   "id": "2d0bfedcfe52aedc",
   "metadata": {
    "colab": {
     "base_uri": "https://localhost:8080/"
    },
    "id": "2d0bfedcfe52aedc",
    "outputId": "eef898b3-cf85-43d1-9715-30194b9932d3"
   },
   "outputs": [],
   "source": [
    "# Check if we have a GPU available\n",
    "#import tensorflow as tf\n",
    "#if tf.test.gpu_device_name():\n",
    "#    print('Default GPU Device: {}'.format(tf.test.gpu_device_name()))\n",
    "#else:\n",
    "#    print(\"No GPU available. If you're on Colab, go to Runtime > Change runtime and select a GPU hardware accelerator.\")"
   ]
  },
  {
   "cell_type": "code",
   "execution_count": 2,
   "id": "9c28c497f620b775",
   "metadata": {
    "ExecuteTime": {
     "end_time": "2024-02-08T21:30:44.959803Z",
     "start_time": "2024-02-08T21:30:44.701343Z"
    },
    "id": "9c28c497f620b775"
   },
   "outputs": [],
   "source": [
    "#def download_file(url, file_path):\n",
    "#    import requests\n",
    "#    r = requests.get(url)\n",
    "#    with open(file_path, 'wb') as f:\n",
    "#        f.write(r.content)\n",
    "\n",
    "#def load_dataset(file_path, fraction=1.0):\n",
    "#    with open(file_path, 'r', encoding='utf-8') as f:\n",
    "#        raw_text = f.read()\n",
    "#    return raw_text[:int(fraction * len(raw_text))]\n",
    "\n",
    "#dataset = 'shakespeare.txt' # Other options are mark_twain.txt, charles_dickens.txt\n",
    "\n",
    "#download_file(f'https://github.com/UofT-DSI/deep_learning/raw/main/assignments/downloaded_books/' + dataset, dataset)\n",
    "\n",
    "# Load chosen dataset. NOTE: If Colab is running out of memory, change the `fraction` parameter to a value between 0 and 1 to load less data.\n",
    "#text = load_dataset(dataset, fraction=0.1)\n",
    "\n",
    "\n",
    "# Load the dataset\n",
    "def load_dataset(file_path, fraction=1.0):\n",
    "    with open(file_path, 'r', encoding='utf-8') as f:\n",
    "        raw_text = f.read()\n",
    "    return raw_text[:int(fraction * len(raw_text))]\n",
    "\n",
    "# Path to the dataset\n",
    "dataset_path = 'downloaded_books/shakespeare.txt'\n",
    "\n",
    "# Load the dataset with a fraction parameter\n",
    "text = load_dataset(dataset_path, fraction=0.1)\n"
   ]
  },
  {
   "cell_type": "markdown",
   "id": "dab51c764031e606",
   "metadata": {
    "collapsed": false,
    "id": "dab51c764031e606"
   },
   "source": [
    "# 1. Data Preparation (Complete or Incomplete)\n",
    "\n",
    "Before we can begin training an RNN model, we need to prepare the dataset. This involves cleaning the text, tokenizing words, and creating sequences the model can be trained on.\n",
    "\n",
    "## 1.1 Data Exploration\n",
    "\n",
    "Print the first 1000 characters of the dataset. Report the dataset's size and the number of unique characters it contains."
   ]
  },
  {
   "cell_type": "code",
   "execution_count": 3,
   "id": "BunkZmdkl0Wn",
   "metadata": {
    "colab": {
     "base_uri": "https://localhost:8080/"
    },
    "id": "BunkZmdkl0Wn",
    "outputId": "e429a49a-9334-4484-bd6b-2ce40c8298c1"
   },
   "outputs": [
    {
     "name": "stdout",
     "output_type": "stream",
     "text": [
      "First 1000 characters of the dataset:\n",
      "\n",
      "The Project Gutenberg EBook of Hamlet, by William Shakespeare\n",
      "\n",
      "This eBook is for the use of anyone anywhere at no cost and with\n",
      "almost no restrictions whatsoever.  You may copy it, give it away or\n",
      "re-use it under the terms of the Project Gutenberg License included\n",
      "with this eBook or online at www.gutenberg.org\n",
      "\n",
      "\n",
      "Title: Hamlet\n",
      "\n",
      "Author: William Shakespeare\n",
      "\n",
      "Editor: Charles Kean\n",
      "\n",
      "Release Date: January 10, 2009 [EBook #27761]\n",
      "\n",
      "Language: English\n",
      "\n",
      "Character set encoding: UTF-8\n",
      "\n",
      "*** START OF THIS PROJECT GUTENBERG EBOOK HAMLET ***\n",
      "\n",
      "\n",
      "\n",
      "\n",
      "Produced by David Starner, Curtis Weyant and the Online\n",
      "Distributed Proofreading Team at https://www.pgdp.net\n",
      "\n",
      "\n",
      "\n",
      "\n",
      "\n",
      "\n",
      "\n",
      "\n",
      "\n",
      "    Transcriber's Note:\n",
      "    This is a heavily edited version of _Hamlet_. It was used\n",
      "    for Charles Kean's 1859 stage production. Phrases printed\n",
      "    in italics in the book are indicated in this electronic\n",
      "    version by _ (underscore). Footnotes originally appeared\n",
      "    at the bottom of each page. For this electronic version\n",
      "    the footnotes \n",
      "\n",
      "Dataset size: 935886 characters\n",
      "Number of unique characters: 131\n"
     ]
    }
   ],
   "source": [
    "# Print the first 1000 characters\n",
    "print(\"First 1000 characters of the dataset:\\n\")\n",
    "print(text[:1000])\n",
    "\n",
    "# Report the dataset's size\n",
    "dataset_size = len(text)\n",
    "print(f\"\\nDataset size: {dataset_size} characters\")\n",
    "\n",
    "# Report the number of unique characters in the dataset\n",
    "unique_chars = set(text)\n",
    "num_unique_chars = len(unique_chars)\n",
    "print(f\"Number of unique characters: {num_unique_chars}\")"
   ]
  },
  {
   "cell_type": "markdown",
   "id": "3ae1639f5ecfe587",
   "metadata": {
    "collapsed": false,
    "id": "3ae1639f5ecfe587"
   },
   "source": [
    "## 1.2 Text Pre-Processing\n",
    "\n",
    "To prepare the dataset for training, we need to clean the text and create a numerical representation the model can interpret. Perform the following pre-processing steps:\n",
    "\n",
    "*   Convert the entire text to lowercase.\n",
    "*   Use the `Tokenizer` class from the `keras.preprocessing.text` module to tokenize the text. You should fit the tokenizer on the text and then convert the text to a sequence of numbers. You can use the `texts_to_sequences` method to do this.\n",
    "\n",
    "**Note**:\n",
    "* You'll need to specify an appropriate size for the vocabulary. The number of words in the list of most common words can serve as a guide - does it seem like a reasonable vocabulary size?\n",
    "* Some of the words will be excluded from the vocabulary, as they don't appear often enough. It's important to provide a value for `oov_token` when creating the Tokenizer instance, so that these words can be represented as \"unknown\"."
   ]
  },
  {
   "cell_type": "code",
   "execution_count": 4,
   "id": "4d0d30cd98ea453c",
   "metadata": {
    "id": "4d0d30cd98ea453c"
   },
   "outputs": [
    {
     "data": {
      "image/png": "[encoded data removed]",
      "text/plain": [
       "<Figure size 1000x600 with 1 Axes>"
      ]
     },
     "metadata": {},
     "output_type": "display_data"
    },
    {
     "name": "stdout",
     "output_type": "stream",
     "text": [
      "Recommended vocabulary size: 7338\n",
      "Most common words and their counts:\n",
      "the: 6571\n",
      "and: 4663\n",
      "of: 3815\n",
      "to: 3687\n",
      "a: 2686\n",
      "in: 2258\n",
      "i: 2130\n",
      "that: 1693\n",
      "you: 1692\n",
      "he: 1538\n",
      "his: 1419\n",
      "is: 1351\n",
      "with: 1282\n",
      "it: 1266\n",
      "for: 1174\n",
      "my: 1142\n",
      "was: 1119\n",
      "not: 1114\n",
      "this: 1083\n",
      "”: 1080\n"
     ]
    }
   ],
   "source": [
    "from keras.preprocessing.text import Tokenizer\n",
    "import matplotlib.pyplot as plt\n",
    "\n",
    "# Convert text to lowercase\n",
    "text = text.lower()\n",
    "\n",
    "# Initialize the tokenizer without setting the num_words parameter yet\n",
    "OOV_TOKEN = '<OOV>'\n",
    "tokenizer = Tokenizer(oov_token=OOV_TOKEN)\n",
    "\n",
    "# Fit the tokenizer on the text\n",
    "tokenizer.fit_on_texts([text])\n",
    "\n",
    "# Get the word index and word counts\n",
    "word_index = tokenizer.word_index\n",
    "word_counts = tokenizer.word_counts\n",
    "\n",
    "# Sort the words by frequency\n",
    "sorted_words = sorted(word_counts.items(), key=lambda x: x[1], reverse=True)\n",
    "\n",
    "# Plot the word frequency distribution\n",
    "word_frequencies = [count for word, count in sorted_words]\n",
    "plt.figure(figsize=(10, 6))\n",
    "plt.plot(word_frequencies)\n",
    "plt.yscale('log')  # Log scale for better visualization of the long tail\n",
    "plt.title('Word Frequency Distribution')\n",
    "plt.xlabel('Word Rank')\n",
    "plt.ylabel('Frequency')\n",
    "plt.show()\n",
    "\n",
    "# Determine the vocabulary size\n",
    "REC_VOCAB_SIZE = sum([1 for count in word_frequencies if count > 1])\n",
    "print(f\"Recommended vocabulary size: {REC_VOCAB_SIZE}\")\n",
    "\n",
    "VOCAB_SIZE=13218+1\n",
    "\n",
    "# Print some of the most common words and their counts\n",
    "print(\"Most common words and their counts:\")\n",
    "for word, count in sorted_words[:20]:\n",
    "    print(f\"{word}: {count}\")"
   ]
  },
  {
   "cell_type": "markdown",
   "id": "89d32bb9356f711",
   "metadata": {
    "collapsed": false,
    "id": "89d32bb9356f711"
   },
   "source": [
    "If everything worked, the following line should show you the first 10 words in the vocabulary:"
   ]
  },
  {
   "cell_type": "code",
   "execution_count": 5,
   "id": "6a7cd547a19feece",
   "metadata": {
    "colab": {
     "base_uri": "https://localhost:8080/"
    },
    "id": "6a7cd547a19feece",
    "outputId": "1f52c24c-fe9d-4074-a6b9-2be1b36a172e"
   },
   "outputs": [
    {
     "name": "stdout",
     "output_type": "stream",
     "text": [
      "[('<OOV>', 1), ('the', 2), ('and', 3), ('of', 4), ('to', 5), ('a', 6), ('in', 7), ('i', 8), ('that', 9), ('you', 10)]\n"
     ]
    }
   ],
   "source": [
    "try:\n",
    "    print(list(tokenizer.word_index.items())[:10])\n",
    "except AttributeError:\n",
    "    print(\"Tokenizer has not been initialized. Possible issue: Complete the relevant section of the assignment to initialize it.\"\n",
    ")\n"
   ]
  },
  {
   "cell_type": "markdown",
   "id": "da504e4bc6617613",
   "metadata": {
    "collapsed": false,
    "id": "da504e4bc6617613"
   },
   "source": [
    "## 1.3 Sequence Generation\n",
    "\n",
    "Now that the text has been tokenized, we need to create sequences the model can be trained on. There are two parts to this:\n",
    "\n",
    "*   Use the `texts_to_sequences` method from the tokenizer to convert the text to a list of sequences of numbers.\n",
    "*   Generate the training sequences. Each training sequence should contain `SEQ_LENGTH` token IDs from the text. The target token for each sequence should be the word that follows the sequence in the text."
   ]
  },
  {
   "cell_type": "code",
   "execution_count": 6,
   "id": "4ff5fc8d0273709c",
   "metadata": {
    "id": "4ff5fc8d0273709c"
   },
   "outputs": [
    {
     "name": "stdout",
     "output_type": "stream",
     "text": [
      "Number of training sequences: 156631\n",
      "Shape of X: (156631, 40)\n",
      "Shape of y: (156631,)\n",
      "First training sequence (input): [   2   56   54  411    4  107   28  668  172   20  411   13   16    2\n",
      "  176    4  669 1643   33   43 1095    3   14  412   43 1790 1423   10\n",
      "   85  333   15  124   15  163   29  531  176   15  254    2]\n",
      "Target token for the first sequence: 216\n"
     ]
    }
   ],
   "source": [
    "import numpy as np\n",
    "\n",
    "# Set an appropriate sequence length\n",
    "SEQ_LENGTH = 40  # Adjust this value as needed\n",
    "\n",
    "# Convert text to sequences of numbers\n",
    "sequences = tokenizer.texts_to_sequences([text])[0]\n",
    "\n",
    "# Generate the training sequences\n",
    "X = []\n",
    "y = []\n",
    "\n",
    "for i in range(SEQ_LENGTH, len(sequences)):\n",
    "    # Create sequences of length SEQ_LENGTH\n",
    "    X.append(sequences[i-SEQ_LENGTH:i])\n",
    "    # The target token is the word that follows the sequence\n",
    "    y.append(sequences[i])\n",
    "\n",
    "# Convert X and y to numpy arrays for training\n",
    "X = np.array(X)\n",
    "y = np.array(y)\n",
    "\n",
    "# Print some information about the generated sequences\n",
    "print(f\"Number of training sequences: {len(X)}\")\n",
    "print(f\"Shape of X: {X.shape}\")\n",
    "print(f\"Shape of y: {y.shape}\")\n",
    "print(f\"First training sequence (input): {X[0]}\")\n",
    "print(f\"Target token for the first sequence: {y[0]}\")"
   ]
  },
  {
   "cell_type": "markdown",
   "id": "3b6bdc0deb930df1",
   "metadata": {
    "collapsed": false,
    "id": "3b6bdc0deb930df1"
   },
   "source": [
    "Assuming your sequences are stored in `X` and the corresponding targets in `y`, the following line should print the first training sequence and its target:"
   ]
  },
  {
   "cell_type": "code",
   "execution_count": 7,
   "id": "a495cab04001ce92",
   "metadata": {
    "colab": {
     "base_uri": "https://localhost:8080/"
    },
    "id": "a495cab04001ce92",
    "outputId": "ecc2c1f4-81d5-4edb-ba86-8c53f86df70b"
   },
   "outputs": [
    {
     "name": "stdout",
     "output_type": "stream",
     "text": [
      "Sequence: [   2   56   54  411    4  107   28  668  172   20  411   13   16    2\n",
      "  176    4  669 1643   33   43 1095    3   14  412   43 1790 1423   10\n",
      "   85  333   15  124   15  163   29  531  176   15  254    2]\n",
      "Target: 216\n",
      "Translated back to words: ['the', 'project', 'gutenberg', 'ebook', 'of', 'hamlet', 'by', 'william', 'shakespeare', 'this', 'ebook', 'is', 'for', 'the', 'use', 'of', 'anyone', 'anywhere', 'at', 'no', 'cost', 'and', 'with', 'almost', 'no', 'restrictions', 'whatsoever', 'you', 'may', 'copy', 'it', 'give', 'it', 'away', 'or', 're', 'use', 'it', 'under', 'the'] -> terms\n"
     ]
    }
   ],
   "source": [
    "if len(X) > 0 and len(y) > 0:\n",
    "    print(f'Sequence: {X[0]}\\nTarget: {y[0]}')\n",
    "    print(f'Translated back to words: {[tokenizer.index_word[i] for i in X[0]]} -> {tokenizer.index_word[y[0]]}')\n",
    "else:\n",
    "    print(\"Training sequences have not been generated. Possible issue: Complete the relevant section of the assignment to initialize it.\")\n"
   ]
  },
  {
   "cell_type": "markdown",
   "id": "d5bb2c55da17aaa0",
   "metadata": {
    "collapsed": false,
    "id": "d5bb2c55da17aaa0"
   },
   "source": [
    "And the following code will transform y into a one-hot encoded matrix, and split everything into training and validation sets:"
   ]
  },
  {
   "cell_type": "code",
   "execution_count": 8,
   "id": "3a929b2e6c2cc921",
   "metadata": {
    "colab": {
     "base_uri": "https://localhost:8080/"
    },
    "id": "3a929b2e6c2cc921",
    "outputId": "bbac2f5d-5ec3-40d0-fdd7-c567088569d7"
   },
   "outputs": [
    {
     "name": "stdout",
     "output_type": "stream",
     "text": [
      "X_train shape: (125304, 40)\n",
      "y_train shape: (125304, 13219)\n"
     ]
    }
   ],
   "source": [
    "from sklearn.model_selection import train_test_split\n",
    "from keras.utils import to_categorical\n",
    "import numpy as np\n",
    "\n",
    "# Ensure that tokenizer has been initialized\n",
    "if tokenizer is not None:\n",
    "    # Convert X and y to numpy arrays\n",
    "    X = np.array(X)\n",
    "    y = np.array(y)\n",
    "\n",
    "    # One last thing: let's drop any examples where the target is the OOV token - we don't want our model to predict that (boring!)\n",
    "    if OOV_TOKEN in tokenizer.word_index:\n",
    "        mask = y != tokenizer.word_index[OOV_TOKEN]\n",
    "        X = X[mask]\n",
    "        y = y[mask]\n",
    "\n",
    "    # One-hot encode the target token\n",
    "    y = to_categorical(y, num_classes=VOCAB_SIZE)\n",
    "\n",
    "    # Split the data into training and validation sets\n",
    "    X_train, X_val, y_train, y_val = train_test_split(X, y, test_size=0.2, random_state=42)\n",
    "\n",
    "    print(f'X_train shape: {X_train.shape}')\n",
    "    print(f'y_train shape: {y_train.shape}')\n",
    "else:\n",
    "    print(\"Tokenizer has not been initialized. Please initialize it and load the vocabulary before continuing.\")\n"
   ]
  },
  {
   "cell_type": "markdown",
   "id": "b6e4161897210434",
   "metadata": {
    "collapsed": false,
    "id": "b6e4161897210434"
   },
   "source": [
    "# 2. Model Development (Complete or Incomplete)\n",
    "\n",
    "With the dataset prepared, it's time to develop the RNN model. You'll need to define the architecture of the model, compile it, and prepare it for training.\n",
    "\n",
    "## 2.1 Model Architecture\n",
    "\n",
    "Define the architecture of your RNN model. You can design it however you like, but there are a few features that it's important to include:\n",
    "\n",
    "*   An embedding layer that learns a dense representation of the input tokens. You'll need to specify the input dimension (the size of the vocabulary) and the output dimension (the size of the dense representation). Remember, you can look at the documentation [here](https://keras.io/api/layers/core_layers/embedding/).\n",
    "*   At least one recurrent layer. We have learned how to use LSTM layers in class, but you can use other types of recurrent layers if you prefer. You can find the documentation [here](https://keras.io/api/layers/recurrent_layers/lstm/).\n",
    "*   A dense layer with a softmax activation function. This layer will output a probability distribution over the vocabulary, so that the model can make predictions about the next token."
   ]
  },
  {
   "cell_type": "code",
   "execution_count": 11,
   "id": "9fdfaad93818fc8d",
   "metadata": {
    "colab": {
     "base_uri": "https://localhost:8080/"
    },
    "id": "9fdfaad93818fc8d",
    "outputId": "ae02a273-ab37-4274-d41c-b2c0c80350d6"
   },
   "outputs": [
    {
     "name": "stdout",
     "output_type": "stream",
     "text": [
      "Model: \"sequential\"\n",
      "_________________________________________________________________\n",
      " Layer (type)                Output Shape              Param #   \n",
      "=================================================================\n",
      " embedding (Embedding)       (None, 40, 100)           1321900   \n",
      "                                                                 \n",
      " lstm (LSTM)                 (None, 128)               117248    \n",
      "                                                                 \n",
      " dense (Dense)               (None, 13219)             1705251   \n",
      "                                                                 \n",
      "=================================================================\n",
      "Total params: 3,144,399\n",
      "Trainable params: 3,144,399\n",
      "Non-trainable params: 0\n",
      "_________________________________________________________________\n"
     ]
    }
   ],
   "source": [
    "from keras.models import Sequential\n",
    "from keras.layers import Embedding, LSTM, Dense\n",
    "\n",
    "EMBEDDING_DIM = 100  # Dimension of the embedding vectors\n",
    "RNN_UNITS = 128     # Number of units in the RNN layer\n",
    "\n",
    "model = Sequential()\n",
    "\n",
    "# Add embedding layer\n",
    "model.add(Embedding(input_dim=VOCAB_SIZE, output_dim=EMBEDDING_DIM, input_length=SEQ_LENGTH))\n",
    "\n",
    "# Add LSTM layer (or any other RNN layer)\n",
    "model.add(LSTM(RNN_UNITS))\n",
    "\n",
    "# Add dense layer with softmax activation\n",
    "model.add(Dense(VOCAB_SIZE, activation='softmax'))\n",
    "\n",
    "# Check if the model has layers before trying to print the summary\n",
    "if len(model.layers) > 0:\n",
    "    model.summary()\n",
    "else:\n",
    "    print(\"No layers have been added to the model. Please complete the assignment by adding the required layers.\")"
   ]
  },
  {
   "cell_type": "markdown",
   "id": "2fafd2dbb0d589fc",
   "metadata": {
    "collapsed": false,
    "id": "2fafd2dbb0d589fc"
   },
   "source": [
    "## 2.2 Model Compilation\n",
    "\n",
    "Compile the model with an appropriate loss function and optimizer. You might also want to track additional metrics, such as accuracy.\n",
    "\n",
    "Give a short explanation of your choice of loss function and optimizer:\n",
    "\n",
    "## Answer 2.2 \n",
    "**Loss Function:** categorical_crossentropy.  per live lessons this loss function is ideal for multi-class classification tasks where the target is one-hot encoded. It quantifies the difference between the predicted probabilities and the actual one-hot encoded target, guiding the model to improve its predictions.\n",
    "\n",
    "**Optimizer:** Adam. Adam adjusts learning rates based on training data, helping the model to converge faster and handle complex training dynamics"
   ]
  },
  {
   "cell_type": "code",
   "execution_count": 12,
   "id": "ae4ca7a12051b1fd",
   "metadata": {
    "id": "ae4ca7a12051b1fd"
   },
   "outputs": [],
   "source": [
    "from keras.optimizers import Adam\n",
    "# Set a learning rate\n",
    "learning_rate = 0.001 \n",
    "\n",
    "# Create the Adam optimizer with the specified learning rate\n",
    "optimizer = Adam(learning_rate=learning_rate)\n",
    "\n",
    "model.compile(\n",
    "    optimizer=optimizer, \n",
    "    loss='categorical_crossentropy', \n",
    "    metrics=['accuracy']\n",
    ")"
   ]
  },
  {
   "cell_type": "markdown",
   "id": "c2f0b90a448c4f4b",
   "metadata": {
    "collapsed": false,
    "id": "c2f0b90a448c4f4b"
   },
   "source": [
    "## 2.3 Model Training\n",
    "\n",
    "Train the model on the training data you've prepared.\n",
    "\n",
    "* Train your model for 5 epochs with a batch size of 128. Use the validation data for validation.\n",
    "* Store the training history in a variable called `history`."
   ]
  },
  {
   "cell_type": "code",
   "execution_count": 13,
   "id": "256b1ea138c67ef7",
   "metadata": {
    "colab": {
     "base_uri": "https://localhost:8080/"
    },
    "id": "256b1ea138c67ef7",
    "outputId": "fba36993-0bf3-472e-f1c3-1da548c12ead"
   },
   "outputs": [
    {
     "name": "stdout",
     "output_type": "stream",
     "text": [
      "Epoch 1/5\n",
      "979/979 - 109s - loss: 7.1918 - accuracy: 0.0478 - val_loss: 6.9477 - val_accuracy: 0.0615 - 109s/epoch - 111ms/step\n",
      "Epoch 2/5\n",
      "979/979 - 105s - loss: 6.6290 - accuracy: 0.0731 - val_loss: 6.6494 - val_accuracy: 0.0791 - 105s/epoch - 107ms/step\n",
      "Epoch 3/5\n",
      "979/979 - 103s - loss: 6.2185 - accuracy: 0.0973 - val_loss: 6.4239 - val_accuracy: 0.1011 - 103s/epoch - 106ms/step\n",
      "Epoch 4/5\n",
      "979/979 - 109s - loss: 5.8587 - accuracy: 0.1177 - val_loss: 6.2935 - val_accuracy: 0.1113 - 109s/epoch - 112ms/step\n",
      "Epoch 5/5\n",
      "979/979 - 112s - loss: 5.5698 - accuracy: 0.1321 - val_loss: 6.2412 - val_accuracy: 0.1214 - 112s/epoch - 115ms/step\n"
     ]
    }
   ],
   "source": [
    "history = model.fit(\n",
    "    X_train,         # Training features\n",
    "    y_train,         # Training targets\n",
    "    epochs=5,        # Number of epochs\n",
    "    batch_size=128,  # Batch size\n",
    "    validation_data=(X_val, y_val),  # Validation data\n",
    "    verbose=2        # Verbosity mode \n",
    ")"
   ]
  },
  {
   "cell_type": "markdown",
   "id": "195c59bf80d2a2c4",
   "metadata": {
    "collapsed": false
   },
   "source": [
    "Plot the training history to visualize the model's learning progress. Your plot should include the training and validation loss."
   ]
  },
  {
   "cell_type": "code",
   "execution_count": 14,
   "id": "9e8cacec70d8f313",
   "metadata": {
    "id": "9e8cacec70d8f313"
   },
   "outputs": [
    {
     "data": {
      "image/png": "[encoded data removed]",
      "text/plain": [
       "<Figure size 1200x600 with 1 Axes>"
      ]
     },
     "metadata": {},
     "output_type": "display_data"
    }
   ],
   "source": [
    "import matplotlib.pyplot as plt\n",
    "\n",
    "# Retrieve the loss values from the history object\n",
    "train_loss = history.history['loss']\n",
    "val_loss = history.history['val_loss']\n",
    "\n",
    "# Plot the training and validation loss\n",
    "plt.figure(figsize=(12, 6))\n",
    "plt.plot(train_loss, label='Training Loss')\n",
    "plt.plot(val_loss, label='Validation Loss')\n",
    "plt.title('Training and Validation Loss')\n",
    "plt.xlabel('Epoch')\n",
    "plt.ylabel('Loss')\n",
    "plt.legend()\n",
    "plt.grid(True)\n",
    "plt.show()"
   ]
  },
  {
   "cell_type": "markdown",
   "id": "3d9ed71305787aed",
   "metadata": {
    "collapsed": false
   },
   "source": [
    "# 3. Text Generation (Complete or Incomplete)\n",
    "\n",
    "Write a method called `generate_text` that uses the trained model to generate new text. The method should take the following parameters:\n",
    "\n",
    "*   `model`: The trained RNN model.\n",
    "*   `tokenizer`: The tokenizer used to pre-process the text data.\n",
    "*   `seed_text`: The seed text the model will use to generate new text.\n",
    "*   `max_sequence_len`: The maximum length of the sequence used to generate new text.\n",
    "\n",
    "The method should return the generated text.\n",
    "\n",
    "An overview of the text generation process you should follow:\n",
    "\n",
    "1. Tokenize the seed text using the tokenizer we built before.\n",
    "2. Pad the sequences to the same length as the training sequences - you can use the `pad_sequences` method from the `keras.preprocessing.sequence` module, which is documented [here](https://www.tensorflow.org/api_docs/python/tf/keras/preprocessing/sequence/pad_sequences).\n",
    "3. Use the model to predict the next token in the sequence. Remember that the model will output a probability distribution over the vocabulary, so you'll need to use `np.argmax` to find the token with the highest probability.\n",
    "4. Add the predicted token to the sequence and remove the first token.\n",
    "5. Repeat steps 3-4 until you have generated the desired number of tokens.\n",
    "6. Convert the generated token IDs back to words and return the combined result as a single string.\n",
    "\n",
    "This is a challenging task, so don't hesitate to ask for help if you need it. It's okay if the generated text doesn't make much sense yet - we'll work on improving the model next.\n",
    "As a bonus, you can make your method generate \"gpt-style\" by having it print out each word as it's generated, so you can see the text being generated in real time."
   ]
  },
  {
   "cell_type": "code",
   "execution_count": 15,
   "id": "d73dbf278a1265ef",
   "metadata": {
    "collapsed": false
   },
   "outputs": [],
   "source": [
    "from tensorflow.keras.preprocessing.sequence import pad_sequences\n",
    "\n",
    "def get_predicted_word(model, sequence):\n",
    "    \"\"\"\n",
    "    Get the predicted word from the model.\n",
    "    This helper function uses a concept we haven't covered in class yet: temperature.\n",
    "    In essence, a little bit of randomness in what word we predict can make the text more interesting.\n",
    "    \"\"\"\n",
    "\n",
    "    # Use the model to predict the next token in the sequence\n",
    "    yhat = model.predict(sequence, verbose=0)\n",
    "\n",
    "    # Get the index of the predicted word, according to the probabilities\n",
    "    yhat = np.random.choice(range(VOCAB_SIZE), p=yhat.ravel())\n",
    "\n",
    "    return yhat\n",
    "\n",
    "def generate_text(model, tokenizer, seed_text, max_sequence_len, num_words_to_generate=50):\n",
    "    \"\"\"\n",
    "    Generate new text using the trained model.\n",
    "    \n",
    "    :param model: The trained RNN model.\n",
    "    :param tokenizer: The tokenizer used to pre-process the text data.\n",
    "    :param seed_text: The seed text the model will use to generate new text.\n",
    "    :param max_sequence_len: The maximum length of the sequence used to generate new text.\n",
    "    :param num_words_to_generate: Number of words to generate.\n",
    "    :return: The generated text.\n",
    "    \"\"\"\n",
    "    # Convert seed text to sequence\n",
    "    sequence = tokenizer.texts_to_sequences([seed_text])[0]\n",
    "    \n",
    "    # Ensure the sequence is the correct length\n",
    "    sequence = pad_sequences([sequence], maxlen=max_sequence_len, padding='pre')\n",
    "\n",
    "    generated_words = []\n",
    "\n",
    "    for _ in range(num_words_to_generate):\n",
    "        # Get the predicted word\n",
    "        predicted_word_id = get_predicted_word(model, sequence)\n",
    "        \n",
    "        # Convert the predicted word ID to a word\n",
    "        predicted_word = tokenizer.index_word.get(predicted_word_id, '')\n",
    "        \n",
    "        # Stop if the predicted word is empty\n",
    "        if not predicted_word:\n",
    "            break\n",
    "        \n",
    "        # Add the word to the generated words list\n",
    "        generated_words.append(predicted_word)\n",
    "        \n",
    "        # Update the sequence with the predicted word\n",
    "        sequence = np.append(sequence[:, 1:], [[predicted_word_id]], axis=1)\n",
    "\n",
    "    # Combine the generated words into a single string\n",
    "    return ' '.join(generated_words)\n"
   ]
  },
  {
   "cell_type": "code",
   "execution_count": 16,
   "id": "f463b0c3df49e2c",
   "metadata": {
    "collapsed": false
   },
   "outputs": [
    {
     "name": "stdout",
     "output_type": "stream",
     "text": [
      "april became capell 161 quotation for fury so 213 sometimes utf mightst rivall 235 f of kind ’twere sending the change fortune of everything and here does despite there are at the earlier act of shakespeare stint efforts of cæsar also shakespeare “tell to him if his life giving we\n"
     ]
    }
   ],
   "source": [
    "# Test the text generation function\n",
    "generated_text=generate_text(model, tokenizer, 'hamlet', SEQ_LENGTH)\n",
    "print(generated_text)"
   ]
  },
  {
   "cell_type": "markdown",
   "id": "5871d836a0135c41",
   "metadata": {
    "collapsed": false
   },
   "source": [
    "It's likely that the text generated by your model doesn't make much sense yet. This is because the model hasn't been trained for very long, and the training dataset is relatively small. \n",
    "\n",
    "# 4. Model Refinement (Complete or Incomplete)\n",
    "\n",
    "In this last section, you'll work on improving your model. There are many ways to do this, but here are a few ideas to get you started:\n",
    "\n",
    "* Use pre-trained embeddings: the code below will help you to load pre-trained embeddings through Keras. \n",
    "* Experiment with different model architectures, including the number of layers, the number of units in each layer, and the use of dropout layers.\n",
    "* Train your model for longer. You can also experiment with different batch sizes.\n",
    "\n",
    "Implement and test out at least one of these ideas. If you have other ideas for improving the model, feel free to try them out as well."
   ]
  },
  {
   "cell_type": "markdown",
   "id": "e5d2aaf3",
   "metadata": {},
   "source": [
    "## Answer 4: \n",
    "I chose to use  pre-trained embeddings. CODE BELOW"
   ]
  },
  {
   "cell_type": "code",
   "execution_count": 17,
   "id": "dda8b0f845c20862",
   "metadata": {
    "collapsed": false
   },
   "outputs": [],
   "source": [
    "#!wget https://downloads.cs.stanford.edu/nlp/data/glove.6B.zip\n",
    "#!unzip glove.6B.zip\n",
    "\n",
    "#import requests\n",
    "#import zipfile\n",
    "#import io\n",
    "#import os\n",
    "\n",
    "# Define the URL and the target directory\n",
    "#url = 'https://downloads.cs.stanford.edu/nlp/data/glove.6B.zip'\n",
    "#target_dir = '.'  # Current directory (same as the Jupyter notebook)\n",
    "\n",
    "# Download the file\n",
    "#response = requests.get(url)\n",
    "#with zipfile.ZipFile(io.BytesIO(response.content)) as z:\n",
    "#    z.extractall(target_dir)  # Extract to the current directory\n",
    "\n",
    "#print(\"Download and extraction complete.\")"
   ]
  },
  {
   "cell_type": "code",
   "execution_count": 18,
   "id": "e8b777220505635",
   "metadata": {
    "collapsed": false
   },
   "outputs": [
    {
     "name": "stdout",
     "output_type": "stream",
     "text": [
      "Found 400000 word vectors.\n"
     ]
    }
   ],
   "source": [
    "# Load the pre-trained embeddings\n",
    "embeddings_index = {}\n",
    "try:\n",
    "    with open('glove.6B.100d.txt', encoding='utf-8') as f:\n",
    "        for line in f:\n",
    "            values = line.split()\n",
    "            word = values[0]\n",
    "            coefs = np.asarray(values[1:], dtype='float32')\n",
    "            embeddings_index[word] = coefs\n",
    "    print(f'Found {len(embeddings_index)} word vectors.')\n",
    "except FileNotFoundError:\n",
    "    print(\"'glove.6B.100d.txt' File not found. Please make sure you have ran the previous cell.\")"
   ]
  },
  {
   "cell_type": "code",
   "execution_count": 19,
   "id": "d3e48ff004757cf2",
   "metadata": {
    "collapsed": false
   },
   "outputs": [],
   "source": [
    "# Check if VOCAB_SIZE is set\n",
    "if VOCAB_SIZE is None:\n",
    "    print(\"You need to complete the previous parts of your assignment in order for this to work.\")\n",
    "else:\n",
    "    # Create an embedding matrix\n",
    "    embedding_matrix = np.zeros((VOCAB_SIZE, 100))\n",
    "    for word, i in tokenizer.word_index.items():\n",
    "        if i < VOCAB_SIZE:\n",
    "            embedding_vector = embeddings_index.get(word)\n",
    "            if embedding_vector is not None:\n",
    "                embedding_matrix[i] = embedding_vector"
   ]
  },
  {
   "cell_type": "code",
   "execution_count": 20,
   "id": "e3d21d5dbbbcf9f9",
   "metadata": {
    "collapsed": false
   },
   "outputs": [],
   "source": [
    "# Check if VOCAB_SIZE is set\n",
    "if VOCAB_SIZE is None:\n",
    "    print(\"You need to complete the previous parts of your assignment in order for this to work.\")\n",
    "else:\n",
    "    embedding_layer = Embedding(\n",
    "        VOCAB_SIZE, 100, weights=[embedding_matrix], input_length=SEQ_LENGTH, trainable=False\n",
    "    )"
   ]
  },
  {
   "cell_type": "code",
   "execution_count": 24,
   "id": "236cb723e4e5b3fc",
   "metadata": {
    "collapsed": false
   },
   "outputs": [
    {
     "name": "stdout",
     "output_type": "stream",
     "text": [
      "Model: \"sequential_2\"\n",
      "_________________________________________________________________\n",
      " Layer (type)                Output Shape              Param #   \n",
      "=================================================================\n",
      " embedding_1 (Embedding)     (None, 40, 100)           1321900   \n",
      "                                                                 \n",
      " lstm_1 (LSTM)               (None, 128)               117248    \n",
      "                                                                 \n",
      " dense_2 (Dense)             (None, 13219)             1705251   \n",
      "                                                                 \n",
      "=================================================================\n",
      "Total params: 3,144,399\n",
      "Trainable params: 1,822,499\n",
      "Non-trainable params: 1,321,900\n",
      "_________________________________________________________________\n"
     ]
    }
   ],
   "source": [
    "from keras.models import Sequential\n",
    "from keras.layers import Embedding, LSTM, Dense, GlobalAveragePooling1D\n",
    "from keras.optimizers import Adam\n",
    "\n",
    "model2 = Sequential([\n",
    "    # Add the pre-defined and pre-trained embedding layer\n",
    "    embedding_layer,\n",
    "    LSTM(RNN_UNITS),\n",
    "    Dense(VOCAB_SIZE, activation='softmax')\n",
    "])\n",
    "\n",
    "# Set the embedding layer's trainable attribute to False to not fine-tune the embeddings - you can try to change this\n",
    "model2.layers[0].trainable = False\n",
    "\n",
    "# Compile the model\n",
    "# Set a learning rate\n",
    "learning_rate = 0.001 \n",
    "\n",
    "# Create the Adam optimizer with the specified learning rate\n",
    "optimizer = Adam(learning_rate=learning_rate)\n",
    "\n",
    "model2.compile(\n",
    "    optimizer=optimizer, \n",
    "    loss='categorical_crossentropy', \n",
    "    metrics=['accuracy'])\n",
    "\n",
    "# Print the model summary\n",
    "model2.summary()"
   ]
  },
  {
   "cell_type": "code",
   "execution_count": 25,
   "id": "4e6b1cee",
   "metadata": {},
   "outputs": [
    {
     "name": "stdout",
     "output_type": "stream",
     "text": [
      "Epoch 1/5\n",
      "979/979 - 91s - loss: 7.1163 - accuracy: 0.0507 - val_loss: 6.7822 - val_accuracy: 0.0662 - 91s/epoch - 93ms/step\n",
      "Epoch 2/5\n",
      "979/979 - 107s - loss: 6.4219 - accuracy: 0.0824 - val_loss: 6.4074 - val_accuracy: 0.0900 - 107s/epoch - 109ms/step\n",
      "Epoch 3/5\n",
      "979/979 - 98s - loss: 6.0116 - accuracy: 0.1006 - val_loss: 6.2307 - val_accuracy: 0.1052 - 98s/epoch - 100ms/step\n",
      "Epoch 4/5\n",
      "979/979 - 97s - loss: 5.7053 - accuracy: 0.1124 - val_loss: 6.1262 - val_accuracy: 0.1145 - 97s/epoch - 99ms/step\n",
      "Epoch 5/5\n",
      "979/979 - 97s - loss: 5.4393 - accuracy: 0.1228 - val_loss: 6.0677 - val_accuracy: 0.1197 - 97s/epoch - 99ms/step\n"
     ]
    }
   ],
   "source": [
    "history = model2.fit(\n",
    "    X_train,         # Training features\n",
    "    y_train,         # Training targets\n",
    "    epochs=5,        # Number of epochs\n",
    "    batch_size=128,  # Batch size\n",
    "    validation_data=(X_val, y_val),  # Validation data\n",
    "    verbose=2        # Verbosity mode \n",
    ")"
   ]
  },
  {
   "cell_type": "code",
   "execution_count": 26,
   "id": "68ed8bfb",
   "metadata": {},
   "outputs": [
    {
     "name": "stdout",
     "output_type": "stream",
     "text": [
      "hanmer enter court by syracuse 145 chief ff reapers to try om ff walker once heavily home ant conj conj note mer 33 o 101 educational brack’d messenger sedge nostrils we note warburton to be “let 131 for certain hate rowe ff sir ff 61 discovers mind 91 till f1\n"
     ]
    }
   ],
   "source": [
    "# Test the text generation function on model2\n",
    "generated_text=generate_text(model2, tokenizer, 'hamlet', SEQ_LENGTH)\n",
    "print(generated_text)"
   ]
  },
  {
   "cell_type": "markdown",
   "id": "742095fb",
   "metadata": {},
   "source": [
    "## Criteria\n",
    "\n",
    "|Criteria|Complete|Incomplete|\n",
    "|----|----|----|\n",
    "|Task 1|The task has been completed successfully and there are no errors.|The task is still incomplete and there is at least one error.|\n",
    "|Task 2|The task has been completed successfully and there are no errors.|The task is still incomplete and there is at least one error.|\n",
    "|Task 3|The task has been completed successfully and there are no errors.|The task is still incomplete and there is at least one error.|\n",
    "|Task 4|The task has been completed successfully and there are no errors.|The task is still incomplete and there is at least one error.|"
   ]
  },
  {
   "cell_type": "markdown",
   "id": "1990e2d2",
   "metadata": {},
   "source": [
    "## Submission Information\n",
    "\n",
    "🚨**Please review our [Assignment Submission Guide](https://github.com/UofT-DSI/onboarding/blob/main/onboarding_documents/submissions.md)**🚨 for detailed instructions on how to format, branch, and submit your work. Following these guidelines is crucial for your submissions to be evaluated correctly.\n",
    "\n",
    "### Submission Parameters:\n",
    "* Submission Due Date: `HH:MM AM/PM - DD/MM/YYYY`\n",
    "* The branch name for your repo should be: `assignment-2`\n",
    "* What to submit for this assignment:\n",
    "    * This Jupyter Notebook (assignment_2.ipynb) should be populated and should be the only change in your pull request.\n",
    "* What the pull request link should look like for this assignment: `https://github.com/<your_github_username>/deep_learning/pull/<pr_id>`\n",
    "    * Open a private window in your browser. Copy and paste the link to your pull request into the address bar. Make sure you can see your pull request properly. This helps the technical facilitator and learning support staff review your submission easily.\n",
    "\n",
    "Checklist:\n",
    "- [X] Created a branch with the correct naming convention.\n",
    "- [X] Ensured that the repository is public.\n",
    "- [X] Reviewed the PR description guidelines and adhered to them.\n",
    "- [X] Verify that the link is accessible in a private browser window.\n",
    "\n",
    "If you encounter any difficulties or have questions, please don't hesitate to reach out to our team via our Slack at `#cohort-3-help`. Our Technical Facilitators and Learning Support staff are here to help you navigate any challenges."
   ]
  }
 ],
 "metadata": {
  "accelerator": "GPU",
  "colab": {
   "gpuType": "T4",
   "provenance": []
  },
  "kernelspec": {
   "display_name": "Python 3 (ipykernel)",
   "language": "python",
   "name": "python3"
  },
  "language_info": {
   "codemirror_mode": {
    "name": "ipython",
    "version": 3
   },
   "file_extension": ".py",
   "mimetype": "text/x-python",
   "name": "python",
   "nbconvert_exporter": "python",
   "pygments_lexer": "ipython3",
   "version": "3.9.15"
  }
 },
 "nbformat": 4,
 "nbformat_minor": 5
}
